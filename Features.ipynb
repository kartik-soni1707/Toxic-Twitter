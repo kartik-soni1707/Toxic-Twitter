{
 "cells": [
  {
   "cell_type": "code",
   "execution_count": 2,
   "metadata": {},
   "outputs": [],
   "source": [
    "import pandas as pd\n",
    "import numpy as np\n",
    "\n"
   ]
  },
  {
   "cell_type": "code",
   "execution_count": 5,
   "metadata": {},
   "outputs": [],
   "source": [
    "train = pd.read_csv('final_tweets.csv')"
   ]
  },
  {
   "cell_type": "code",
   "execution_count": 6,
   "metadata": {},
   "outputs": [
    {
     "data": {
      "text/html": [
       "<div>\n",
       "<style scoped>\n",
       "    .dataframe tbody tr th:only-of-type {\n",
       "        vertical-align: middle;\n",
       "    }\n",
       "\n",
       "    .dataframe tbody tr th {\n",
       "        vertical-align: top;\n",
       "    }\n",
       "\n",
       "    .dataframe thead th {\n",
       "        text-align: right;\n",
       "    }\n",
       "</style>\n",
       "<table border=\"1\" class=\"dataframe\">\n",
       "  <thead>\n",
       "    <tr style=\"text-align: right;\">\n",
       "      <th></th>\n",
       "      <th>Tweets</th>\n",
       "      <th>Label</th>\n",
       "    </tr>\n",
       "  </thead>\n",
       "  <tbody>\n",
       "    <tr>\n",
       "      <th>0</th>\n",
       "      <td>NaN</td>\n",
       "      <td>0</td>\n",
       "    </tr>\n",
       "    <tr>\n",
       "      <th>1</th>\n",
       "      <td>@mention THE WAY FREEKBZ CEO OFF FULLBLASS ENT...</td>\n",
       "      <td>0</td>\n",
       "    </tr>\n",
       "    <tr>\n",
       "      <th>2</th>\n",
       "      <td>Police Boy found dead luxury Manhattan hotel @url</td>\n",
       "      <td>1</td>\n",
       "    </tr>\n",
       "    <tr>\n",
       "      <th>3</th>\n",
       "      <td>Tomando uma cerveja downtown</td>\n",
       "      <td>0</td>\n",
       "    </tr>\n",
       "    <tr>\n",
       "      <th>4</th>\n",
       "      <td>@mention Diretor Lua Nova filme sem sexo subve...</td>\n",
       "      <td>0</td>\n",
       "    </tr>\n",
       "  </tbody>\n",
       "</table>\n",
       "</div>"
      ],
      "text/plain": [
       "                                              Tweets  Label\n",
       "0                                                NaN      0\n",
       "1  @mention THE WAY FREEKBZ CEO OFF FULLBLASS ENT...      0\n",
       "2  Police Boy found dead luxury Manhattan hotel @url      1\n",
       "3                       Tomando uma cerveja downtown      0\n",
       "4  @mention Diretor Lua Nova filme sem sexo subve...      0"
      ]
     },
     "execution_count": 6,
     "metadata": {},
     "output_type": "execute_result"
    }
   ],
   "source": [
    "train.head()"
   ]
  },
  {
   "cell_type": "code",
   "execution_count": 7,
   "metadata": {},
   "outputs": [
    {
     "data": {
      "text/html": [
       "<div>\n",
       "<style scoped>\n",
       "    .dataframe tbody tr th:only-of-type {\n",
       "        vertical-align: middle;\n",
       "    }\n",
       "\n",
       "    .dataframe tbody tr th {\n",
       "        vertical-align: top;\n",
       "    }\n",
       "\n",
       "    .dataframe thead th {\n",
       "        text-align: right;\n",
       "    }\n",
       "</style>\n",
       "<table border=\"1\" class=\"dataframe\">\n",
       "  <thead>\n",
       "    <tr style=\"text-align: right;\">\n",
       "      <th></th>\n",
       "      <th>Tweets</th>\n",
       "      <th>Label</th>\n",
       "    </tr>\n",
       "  </thead>\n",
       "  <tbody>\n",
       "    <tr>\n",
       "      <th>1</th>\n",
       "      <td>@mention THE WAY FREEKBZ CEO OFF FULLBLASS ENT...</td>\n",
       "      <td>0</td>\n",
       "    </tr>\n",
       "    <tr>\n",
       "      <th>2</th>\n",
       "      <td>Police Boy found dead luxury Manhattan hotel @url</td>\n",
       "      <td>1</td>\n",
       "    </tr>\n",
       "    <tr>\n",
       "      <th>3</th>\n",
       "      <td>Tomando uma cerveja downtown</td>\n",
       "      <td>0</td>\n",
       "    </tr>\n",
       "    <tr>\n",
       "      <th>4</th>\n",
       "      <td>@mention Diretor Lua Nova filme sem sexo subve...</td>\n",
       "      <td>0</td>\n",
       "    </tr>\n",
       "    <tr>\n",
       "      <th>5</th>\n",
       "      <td>Pitura abstracta Abstract paint @url</td>\n",
       "      <td>0</td>\n",
       "    </tr>\n",
       "  </tbody>\n",
       "</table>\n",
       "</div>"
      ],
      "text/plain": [
       "                                              Tweets  Label\n",
       "1  @mention THE WAY FREEKBZ CEO OFF FULLBLASS ENT...      0\n",
       "2  Police Boy found dead luxury Manhattan hotel @url      1\n",
       "3                       Tomando uma cerveja downtown      0\n",
       "4  @mention Diretor Lua Nova filme sem sexo subve...      0\n",
       "5               Pitura abstracta Abstract paint @url      0"
      ]
     },
     "execution_count": 7,
     "metadata": {},
     "output_type": "execute_result"
    }
   ],
   "source": [
    "train.dropna(inplace=True)\n",
    "train.head()"
   ]
  },
  {
   "cell_type": "code",
   "execution_count": 9,
   "metadata": {},
   "outputs": [],
   "source": [
    "train.to_csv(\"final_tweets.csv\", index=False)"
   ]
  },
  {
   "cell_type": "code",
   "execution_count": 10,
   "metadata": {},
   "outputs": [],
   "source": [
    "spam_dict = {}\n",
    "ham_dict =  {}\n",
    "corpus = []"
   ]
  },
  {
   "cell_type": "code",
   "execution_count": 11,
   "metadata": {},
   "outputs": [],
   "source": [
    "for tweet in train['Tweets']:\n",
    "    corpus.extend(tweet.split())"
   ]
  },
  {
   "cell_type": "code",
   "execution_count": 12,
   "metadata": {},
   "outputs": [
    {
     "data": {
      "text/plain": [
       "(['@mention',\n",
       "  'THE',\n",
       "  'WAY',\n",
       "  'FREEKBZ',\n",
       "  'CEO',\n",
       "  'OFF',\n",
       "  'FULLBLASS',\n",
       "  'ENT',\n",
       "  'MARKETING',\n",
       "  'AND',\n",
       "  'PROMO',\n",
       "  'COMPANY',\n",
       "  'DBLOCK',\n",
       "  'RUFFRYDER',\n",
       "  'Police',\n",
       "  'Boy',\n",
       "  'found',\n",
       "  'dead',\n",
       "  'luxury',\n",
       "  'Manhattan'],\n",
       " 930700)"
      ]
     },
     "execution_count": 12,
     "metadata": {},
     "output_type": "execute_result"
    }
   ],
   "source": [
    "corpus[:20], len(corpus)"
   ]
  },
  {
   "cell_type": "code",
   "execution_count": 13,
   "metadata": {},
   "outputs": [],
   "source": [
    "for i in range(len(train)):\n",
    "    spam = train.iloc[i,1]\n",
    "    if(spam == 1):\n",
    "        cur_dict = spam_dict\n",
    "    else:\n",
    "        cur_dict = ham_dict \n",
    "    tweet = train.iloc[i, 0].split()\n",
    "    for word in tweet:\n",
    "        if word in cur_dict:\n",
    "            cur_dict[word] += 1\n",
    "        else:\n",
    "            cur_dict[word] = 1"
   ]
  },
  {
   "cell_type": "code",
   "execution_count": 14,
   "metadata": {},
   "outputs": [
    {
     "name": "stdout",
     "output_type": "stream",
     "text": [
      "930700 82448 68292\n"
     ]
    }
   ],
   "source": [
    "len_doc = len(corpus)\n",
    "len_spam = len(spam_dict)\n",
    "len_ham = len(ham_dict)\n",
    "print(len_doc, len_ham, len_spam)"
   ]
  },
  {
   "cell_type": "code",
   "execution_count": 15,
   "metadata": {},
   "outputs": [],
   "source": [
    "import pickle\n",
    "\n",
    "pickle_out = open(\"spam_dict.pickle\",\"wb\")\n",
    "pickle.dump(spam_dict, pickle_out)\n",
    "pickle_out.close()\n",
    "\n",
    "pickle_out = open(\"ham_dict.pickle\",\"wb\")\n",
    "pickle.dump(ham_dict, pickle_out)\n",
    "pickle_out.close()\n",
    "\n",
    "pickle_out = open(\"corpus.pickle\",\"wb\")\n",
    "pickle.dump(corpus, pickle_out)\n",
    "pickle_out.close()"
   ]
  },
  {
   "cell_type": "code",
   "execution_count": 17,
   "metadata": {},
   "outputs": [
    {
     "data": {
      "text/plain": [
       "(49899, 47734)"
      ]
     },
     "execution_count": 17,
     "metadata": {},
     "output_type": "execute_result"
    }
   ],
   "source": [
    "list(train['Label']).count(1), list(train['Label']).count(0)"
   ]
  },
  {
   "cell_type": "code",
   "execution_count": null,
   "metadata": {},
   "outputs": [],
   "source": []
  }
 ],
 "metadata": {
  "kernelspec": {
   "display_name": "Python 3",
   "language": "python",
   "name": "python3"
  },
  "language_info": {
   "codemirror_mode": {
    "name": "ipython",
    "version": 3
   },
   "file_extension": ".py",
   "mimetype": "text/x-python",
   "name": "python",
   "nbconvert_exporter": "python",
   "pygments_lexer": "ipython3",
   "version": "3.7.6"
  }
 },
 "nbformat": 4,
 "nbformat_minor": 4
}

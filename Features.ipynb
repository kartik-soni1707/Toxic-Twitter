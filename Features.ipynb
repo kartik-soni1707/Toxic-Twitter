{
 "cells": [
  {
   "cell_type": "code",
   "execution_count": 3,
   "metadata": {},
   "outputs": [],
   "source": [
    "import pandas as pd\n",
    "import numpy as np\n"
   ]
  },
  {
   "cell_type": "code",
   "execution_count": 37,
   "metadata": {},
   "outputs": [],
   "source": [
    "train = pd.read_csv('1-5000.csv')"
   ]
  },
  {
   "cell_type": "code",
   "execution_count": 38,
   "metadata": {},
   "outputs": [
    {
     "data": {
      "text/html": [
       "<div>\n",
       "<style scoped>\n",
       "    .dataframe tbody tr th:only-of-type {\n",
       "        vertical-align: middle;\n",
       "    }\n",
       "\n",
       "    .dataframe tbody tr th {\n",
       "        vertical-align: top;\n",
       "    }\n",
       "\n",
       "    .dataframe thead th {\n",
       "        text-align: right;\n",
       "    }\n",
       "</style>\n",
       "<table border=\"1\" class=\"dataframe\">\n",
       "  <thead>\n",
       "    <tr style=\"text-align: right;\">\n",
       "      <th></th>\n",
       "      <th>Unnamed: 0</th>\n",
       "      <th>0</th>\n",
       "      <th>1</th>\n",
       "    </tr>\n",
       "  </thead>\n",
       "  <tbody>\n",
       "    <tr>\n",
       "      <th>0</th>\n",
       "      <td>0</td>\n",
       "      <td>heck why not</td>\n",
       "      <td>ham</td>\n",
       "    </tr>\n",
       "    <tr>\n",
       "      <th>1</th>\n",
       "      <td>1</td>\n",
       "      <td>love</td>\n",
       "      <td>ham</td>\n",
       "    </tr>\n",
       "    <tr>\n",
       "      <th>2</th>\n",
       "      <td>2</td>\n",
       "      <td>only days until The touring Adelaide</td>\n",
       "      <td>spam</td>\n",
       "    </tr>\n",
       "    <tr>\n",
       "      <th>3</th>\n",
       "      <td>3</td>\n",
       "      <td>issuing our call for the next week the look ou...</td>\n",
       "      <td>ham</td>\n",
       "    </tr>\n",
       "    <tr>\n",
       "      <th>4</th>\n",
       "      <td>4</td>\n",
       "      <td>hour day today dent this week load week should...</td>\n",
       "      <td>spam</td>\n",
       "    </tr>\n",
       "  </tbody>\n",
       "</table>\n",
       "</div>"
      ],
      "text/plain": [
       "   Unnamed: 0                                                  0     1\n",
       "0           0                                      heck why not    ham\n",
       "1           1                                              love    ham\n",
       "2           2              only days until The touring Adelaide   spam\n",
       "3           3  issuing our call for the next week the look ou...   ham\n",
       "4           4  hour day today dent this week load week should...  spam"
      ]
     },
     "execution_count": 38,
     "metadata": {},
     "output_type": "execute_result"
    }
   ],
   "source": [
    "train.head()"
   ]
  },
  {
   "cell_type": "code",
   "execution_count": 45,
   "metadata": {},
   "outputs": [],
   "source": [
    "spam_dict = {}\n",
    "ham_dict =  {}\n",
    "corpus = []"
   ]
  },
  {
   "cell_type": "code",
   "execution_count": 47,
   "metadata": {},
   "outputs": [],
   "source": [
    "for tweet in train['0']:\n",
    "    corpus.extend(tweet.split())"
   ]
  },
  {
   "cell_type": "code",
   "execution_count": 49,
   "metadata": {},
   "outputs": [
    {
     "data": {
      "text/plain": [
       "(['heck',\n",
       "  'why',\n",
       "  'not',\n",
       "  'love',\n",
       "  'only',\n",
       "  'days',\n",
       "  'until',\n",
       "  'The',\n",
       "  'touring',\n",
       "  'Adelaide',\n",
       "  'issuing',\n",
       "  'our',\n",
       "  'call',\n",
       "  'for',\n",
       "  'the',\n",
       "  'next',\n",
       "  'week',\n",
       "  'the',\n",
       "  'look',\n",
       "  'out'],\n",
       " 28219)"
      ]
     },
     "execution_count": 49,
     "metadata": {},
     "output_type": "execute_result"
    }
   ],
   "source": [
    "corpus[:20], len(corpus)"
   ]
  },
  {
   "cell_type": "code",
   "execution_count": 50,
   "metadata": {},
   "outputs": [],
   "source": [
    "for i in range(len(train)):\n",
    "    spam = train.iloc[i,2]\n",
    "    if(spam == \"spam\"):\n",
    "        cur_dict = spam_dict\n",
    "    else:\n",
    "        cur_dict = ham_dict \n",
    "    tweet = train.iloc[i, 1].split()\n",
    "    for word in tweet:\n",
    "        if word in cur_dict:\n",
    "            cur_dict[word] += 1\n",
    "        else:\n",
    "            cur_dict[word] = 1"
   ]
  },
  {
   "cell_type": "code",
   "execution_count": 51,
   "metadata": {},
   "outputs": [
    {
     "name": "stdout",
     "output_type": "stream",
     "text": [
      "28219 3291 2962\n"
     ]
    }
   ],
   "source": [
    "len_doc = len(corpus)\n",
    "len_spam = len(spam_dict)\n",
    "len_ham = len(ham_dict)\n",
    "print(len_doc, len_ham, len_spam)"
   ]
  },
  {
   "cell_type": "code",
   "execution_count": 65,
   "metadata": {},
   "outputs": [],
   "source": [
    "import pickle\n",
    "\n",
    "pickle_out = open(\"spam_dict.pickle\",\"wb\")\n",
    "pickle.dump(spam_dict, pickle_out)\n",
    "pickle_out.close()\n",
    "\n",
    "pickle_out = open(\"ham_dict.pickle\",\"wb\")\n",
    "pickle.dump(ham_dict, pickle_out)\n",
    "pickle_out.close()\n",
    "\n",
    "pickle_out = open(\"corpus.pickle\",\"wb\")\n",
    "pickle.dump(corpus, pickle_out)\n",
    "pickle_out.close()"
   ]
  },
  {
   "cell_type": "code",
   "execution_count": 69,
   "metadata": {},
   "outputs": [
    {
     "data": {
      "text/plain": [
       "(2179, 2339)"
      ]
     },
     "execution_count": 69,
     "metadata": {},
     "output_type": "execute_result"
    }
   ],
   "source": [
    "list(train['1']).count('ham'), list(train['1']).count('spam')"
   ]
  },
  {
   "cell_type": "code",
   "execution_count": null,
   "metadata": {},
   "outputs": [],
   "source": []
  }
 ],
 "metadata": {
  "kernelspec": {
   "display_name": "Python 3",
   "language": "python",
   "name": "python3"
  },
  "language_info": {
   "codemirror_mode": {
    "name": "ipython",
    "version": 3
   },
   "file_extension": ".py",
   "mimetype": "text/x-python",
   "name": "python",
   "nbconvert_exporter": "python",
   "pygments_lexer": "ipython3",
   "version": "3.7.6"
  }
 },
 "nbformat": 4,
 "nbformat_minor": 4
}

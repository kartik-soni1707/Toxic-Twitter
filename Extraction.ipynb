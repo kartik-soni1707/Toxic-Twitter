{
 "cells": [
  {
   "cell_type": "code",
   "execution_count": 9,
   "metadata": {},
   "outputs": [],
   "source": [
    "import pickle\n",
    "\n",
    "pickle_in = open(\"spam_dict.pickle\",\"rb\")\n",
    "spam_dict = pickle.load(pickle_in)\n",
    "pickle_in.close()\n",
    "\n",
    "pickle_in = open(\"ham_dict.pickle\",\"rb\")\n",
    "ham_dict = pickle.load(pickle_in)\n",
    "pickle_in.close()\n",
    "\n",
    "pickle_in = open(\"corpus.pickle\",\"rb\")\n",
    "corpus = pickle.load(pickle_in)\n",
    "pickle_in.close()\n"
   ]
  },
  {
   "cell_type": "code",
   "execution_count": 38,
   "metadata": {},
   "outputs": [],
   "source": [
    "import numpy\n",
    "\n",
    "class WeightedVectorizer:\n",
    "    '''corpus must be a list of all words while other 2 must be dictionaries of form {\"word\":number, \"word2\":number,...}''' \n",
    "    def __init__(self, corpus, spam_dict, ham_dict, bias=0, weight=100):\n",
    "        self.corpus = corpus\n",
    "        self.spam_dict = spam_dict\n",
    "        self.ham_dict = ham_dict\n",
    "        self.bow = set(corpus) # creates a bag of words\n",
    "        self.bias = bias\n",
    "        self.weight = weight\n",
    "        self.fit() # fit is automatically called\n",
    "    \n",
    "    def fit(self):\n",
    "        self.score_dict = {}\n",
    "        for word in self.bow:\n",
    "            if word not in self.spam_dict:\n",
    "                self.spam_dict[word] = 0\n",
    "            if word not in self.ham_dict:\n",
    "                self.ham_dict[word] = 0\n",
    "            score = ((self.spam_dict[word] - self.ham_dict[word])/(len(self.corpus))*self.weight + self.bias)\n",
    "            self.score_dict[word] = score\n",
    "            \n",
    "    def vectorize(self, tweet): \n",
    "        pass"
   ]
  },
  {
   "cell_type": "code",
   "execution_count": 39,
   "metadata": {},
   "outputs": [],
   "source": [
    "vect =  WeightedVectorizer(corpus, spam_dict, ham_dict)"
   ]
  },
  {
   "cell_type": "code",
   "execution_count": 40,
   "metadata": {},
   "outputs": [
    {
     "name": "stdout",
     "output_type": "stream",
     "text": [
      "0.014934995164929623\n",
      "0.004727624368754701\n",
      "0.007198882561512841\n",
      "0.0007521220586655205\n",
      "0.0871387127968196\n",
      "0.0019340281508541959\n",
      "0.3076179219941979\n",
      "0.37563124529923714\n",
      "-0.006016976469324164\n"
     ]
    }
   ],
   "source": [
    "for word in ['earn', 'win', 'click', 'lottery', 'money', 'quick', 'the', 'The', 'THE']:\n",
    "    print(vect.score_dict[word])"
   ]
  },
  {
   "cell_type": "code",
   "execution_count": 57,
   "metadata": {},
   "outputs": [
    {
     "data": {
      "text/plain": [
       "126508"
      ]
     },
     "execution_count": 57,
     "metadata": {},
     "output_type": "execute_result"
    }
   ],
   "source": [
    "vocab = []\n",
    "# choosing upto top 10k words for decision making instead of 126k\n",
    "len(vect.bow)"
   ]
  },
  {
   "cell_type": "code",
   "execution_count": null,
   "metadata": {},
   "outputs": [],
   "source": []
  },
  {
   "cell_type": "code",
   "execution_count": 58,
   "metadata": {},
   "outputs": [
    {
     "ename": "TypeError",
     "evalue": "unsupported operand type(s) for +: 'dict' and 'dict'",
     "output_type": "error",
     "traceback": [
      "\u001b[0;31m---------------------------------------------------------------------------\u001b[0m",
      "\u001b[0;31mTypeError\u001b[0m                                 Traceback (most recent call last)",
      "\u001b[0;32m<ipython-input-58-43a9f08ee9f3>\u001b[0m in \u001b[0;36m<module>\u001b[0;34m\u001b[0m\n\u001b[0;32m----> 1\u001b[0;31m \u001b[0mbow_dict\u001b[0m \u001b[0;34m=\u001b[0m \u001b[0mspam_dict\u001b[0m \u001b[0;34m+\u001b[0m \u001b[0mham_dict\u001b[0m\u001b[0;34m\u001b[0m\u001b[0;34m\u001b[0m\u001b[0m\n\u001b[0m\u001b[1;32m      2\u001b[0m \u001b[0msort\u001b[0m\u001b[0;34m(\u001b[0m\u001b[0mlist\u001b[0m\u001b[0;34m(\u001b[0m\u001b[0mdow_dict\u001b[0m\u001b[0;34m.\u001b[0m\u001b[0mkeys\u001b[0m\u001b[0;34m(\u001b[0m\u001b[0;34m)\u001b[0m\u001b[0;34m)\u001b[0m\u001b[0;34m,\u001b[0m \u001b[0mkey\u001b[0m \u001b[0;34m=\u001b[0m \u001b[0;32mlambda\u001b[0m \u001b[0mx\u001b[0m\u001b[0;34m:\u001b[0m \u001b[0mbow_dict\u001b[0m\u001b[0;34m[\u001b[0m\u001b[0mx\u001b[0m\u001b[0;34m]\u001b[0m\u001b[0;34m,\u001b[0m \u001b[0mreverse\u001b[0m\u001b[0;34m=\u001b[0m\u001b[0;32mTrue\u001b[0m\u001b[0;34m)\u001b[0m\u001b[0;34m\u001b[0m\u001b[0;34m\u001b[0m\u001b[0m\n",
      "\u001b[0;31mTypeError\u001b[0m: unsupported operand type(s) for +: 'dict' and 'dict'"
     ]
    }
   ],
   "source": [
    "bow_dict = spam_dict.\n",
    "sort(list(dow_dict.keys()), key = lambda x: bow_dict[x], reverse=True)"
   ]
  },
  {
   "cell_type": "code",
   "execution_count": null,
   "metadata": {},
   "outputs": [],
   "source": []
  }
 ],
 "metadata": {
  "kernelspec": {
   "display_name": "Python 3",
   "language": "python",
   "name": "python3"
  },
  "language_info": {
   "codemirror_mode": {
    "name": "ipython",
    "version": 3
   },
   "file_extension": ".py",
   "mimetype": "text/x-python",
   "name": "python",
   "nbconvert_exporter": "python",
   "pygments_lexer": "ipython3",
   "version": "3.7.6"
  }
 },
 "nbformat": 4,
 "nbformat_minor": 4
}

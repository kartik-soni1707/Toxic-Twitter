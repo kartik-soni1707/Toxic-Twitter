{
 "cells": [
  {
   "cell_type": "code",
   "execution_count": 58,
   "metadata": {},
   "outputs": [],
   "source": [
    "import re\n",
    "\n",
    "\n",
    "def clean(tweet):\n",
    "    tweet = re.sub(r'[^\\x00-\\x7F]+', '', tweet)\n",
    "    tweet = re.sub(r'@\\w+', '@mention', tweet)\n",
    "    tweet = re.sub(r'(http://)?[-a-zA-Z0-9@:%._\\+~#=]{1,256}\\.[a-zA-Z0-9()]{1,6}\\b([-a-zA-Z0-9()@:%_\\+.~#?&//=]*)', '@url',tweet)\n",
    "    tweet = re.sub(r'[\\.\\\\\\/\\(\\),\\-\\$\\%\\^&\\*\\~`\\:0-9\\+=\\-\\[\\]\\{\\};\\'\\\"<>]', '', tweet)\n",
    "    tweet = re.sub(r'(ing|es|s)\\b', '', tweet)\n",
    "    tweet = tweet.split()\n",
    "    tweet = list(filter(lambda x: len(x) > 2, tweet))\n",
    "    return tweet"
   ]
  },
  {
   "cell_type": "code",
   "execution_count": null,
   "metadata": {},
   "outputs": [],
   "source": []
  },
  {
   "cell_type": "code",
   "execution_count": 8,
   "metadata": {},
   "outputs": [],
   "source": [
    "import pandas as pd\n",
    "import numpy as np"
   ]
  },
  {
   "cell_type": "code",
   "execution_count": 38,
   "metadata": {},
   "outputs": [],
   "source": [
    "file = open(\"./social_honeypot_icwsm_2011/legitimate_users_tweets.txt\")\n",
    "data = file.read()\n",
    "data = data.split('\\t')\n",
    "\n",
    "hamtweets = []\n",
    "for i in range(len(data)//4):\n",
    "    hamtweets.append((data[3*i + 2], 0))"
   ]
  },
  {
   "cell_type": "code",
   "execution_count": 29,
   "metadata": {},
   "outputs": [
    {
     "data": {
      "text/plain": [
       "'MELBOURNE ENQUIRY: Seeking a variety of acts for our end of year show. Payment is $120 per slot or $200 for 2.... http://bit.ly/4Ah3fF'"
      ]
     },
     "execution_count": 29,
     "metadata": {},
     "output_type": "execute_result"
    }
   ],
   "source": [
    "data[2]"
   ]
  },
  {
   "cell_type": "code",
   "execution_count": 35,
   "metadata": {},
   "outputs": [
    {
     "data": {
      "text/plain": [
       "['MELBOURNE',\n",
       " 'ENQUIRY',\n",
       " 'Seek',\n",
       " 'variety',\n",
       " 'act',\n",
       " 'for',\n",
       " 'our',\n",
       " 'end',\n",
       " 'year',\n",
       " 'show',\n",
       " 'Payment',\n",
       " 'per',\n",
       " 'slot',\n",
       " 'for',\n",
       " '@url']"
      ]
     },
     "execution_count": 35,
     "metadata": {},
     "output_type": "execute_result"
    }
   ],
   "source": [
    "clean(data[2])"
   ]
  },
  {
   "cell_type": "code",
   "execution_count": 39,
   "metadata": {},
   "outputs": [],
   "source": [
    "file = open(\"./social_honeypot_icwsm_2011/content_polluters_tweets.txt\")\n",
    "data = file.read()\n",
    "data = data.split('\\t')\n",
    "\n",
    "spamtweets = []\n",
    "for i in range(len(data)//4):\n",
    "    spamtweets.append((data[3*i + 2], 1))"
   ]
  },
  {
   "cell_type": "code",
   "execution_count": 40,
   "metadata": {},
   "outputs": [
    {
     "data": {
      "text/plain": [
       "(1765105, 2444770)"
      ]
     },
     "execution_count": 40,
     "metadata": {},
     "output_type": "execute_result"
    }
   ],
   "source": [
    "len(spamtweets), len(hamtweets)"
   ]
  },
  {
   "cell_type": "code",
   "execution_count": 62,
   "metadata": {},
   "outputs": [],
   "source": [
    "import pickle\n",
    "# pickle the lists for later use"
   ]
  },
  {
   "cell_type": "code",
   "execution_count": 41,
   "metadata": {},
   "outputs": [],
   "source": [
    "import random\n",
    "\n",
    "spamtweets_1 = random.sample(spamtweets, 50000)\n",
    "hamtweets_1 =  random.sample(hamtweets, 50000)\n",
    "total= spamtweets_1 + hamtweets_1\n",
    "\n",
    "random.shuffle(total)"
   ]
  },
  {
   "cell_type": "code",
   "execution_count": 51,
   "metadata": {},
   "outputs": [
    {
     "data": {
      "text/plain": [
       "[('お～、久々にブログ書いちゃった（笑）。だから何だという話だけど、ツイッターばっかりやってると、長文を書くのが億劫になるわけよね。あ、「マツコの部屋」のことも書きたい。',\n",
       "  0),\n",
       " ('@fuseboxradio BY THE WAY I AM FREEKBZ CO CEO OFF FULLBLASS ENT MARKETING AND PROMO COMPANY (DBLOCK /RUFFRYDER)',\n",
       "  0),\n",
       " ('Police: Boy found dead in luxury Manhattan hotel      (AP)  http://bit.ly/dn0aWt',\n",
       "  1),\n",
       " ('Tomando uma cerveja no downtown', 0),\n",
       " (\"@veja RT Diretor de 'Lua Nova': 'Um filme sem sexo é subversivo' http://bit.ly/8aCtx\",\n",
       "  0),\n",
       " ('Pitura abstracta / Abstract painting http://frankgraphics.blogspot.com/',\n",
       "  0),\n",
       " ('@Hannah_Louise91 ... x <3 I hate the tweet limit LIL:D', 1),\n",
       " ('AHAHAHAHA eu vou me casar com o tiago, ou não  * :', 0),\n",
       " ('Cjay - Let´s go - http://bit.ly/1KvzRa #iTunes', 1),\n",
       " ('Nice.  Stand-in pulls it out nicely', 1)]"
      ]
     },
     "execution_count": 51,
     "metadata": {},
     "output_type": "execute_result"
    }
   ],
   "source": [
    "total[:10]"
   ]
  },
  {
   "cell_type": "code",
   "execution_count": 59,
   "metadata": {},
   "outputs": [],
   "source": [
    "cleantweets = []\n",
    "\n",
    "for tweet in total:\n",
    "    cleantweets.append((' '.join(clean(tweet[0])), tweet[1]))\n",
    "    "
   ]
  },
  {
   "cell_type": "code",
   "execution_count": 60,
   "metadata": {},
   "outputs": [
    {
     "data": {
      "text/plain": [
       "[('', 0),\n",
       " ('@mention THE WAY FREEKBZ CEO OFF FULLBLASS ENT MARKETING AND PROMO COMPANY DBLOCK RUFFRYDER',\n",
       "  0),\n",
       " ('Police Boy found dead luxury Manhattan hotel @url', 1),\n",
       " ('Tomando uma cerveja downtown', 0),\n",
       " ('@mention Diretor Lua Nova filme sem sexo subversivo @url', 0),\n",
       " ('Pitura abstracta Abstract paint @url', 0),\n",
       " ('@mention hate the tweet limit LILD', 1),\n",
       " ('AHAHAHAHA vou casar com tiago', 0),\n",
       " ('Cjay Let @url #iTun', 1),\n",
       " ('Nice Standin pull out nicely', 1)]"
      ]
     },
     "execution_count": 60,
     "metadata": {},
     "output_type": "execute_result"
    }
   ],
   "source": [
    "cleantweets[:10]"
   ]
  },
  {
   "cell_type": "code",
   "execution_count": 57,
   "metadata": {},
   "outputs": [
    {
     "data": {
      "text/plain": [
       "100000"
      ]
     },
     "execution_count": 57,
     "metadata": {},
     "output_type": "execute_result"
    }
   ],
   "source": [
    "len(cleantweets)"
   ]
  },
  {
   "cell_type": "code",
   "execution_count": 63,
   "metadata": {},
   "outputs": [],
   "source": [
    "pickle_out = open(\"cleantweets.pickle\", \"wb\")\n",
    "pickle.dump(cleantweets, pickle_out)\n",
    "pickle_out.close()"
   ]
  },
  {
   "cell_type": "code",
   "execution_count": null,
   "metadata": {},
   "outputs": [],
   "source": []
  }
 ],
 "metadata": {
  "kernelspec": {
   "display_name": "Python 3",
   "language": "python",
   "name": "python3"
  },
  "language_info": {
   "codemirror_mode": {
    "name": "ipython",
    "version": 3
   },
   "file_extension": ".py",
   "mimetype": "text/x-python",
   "name": "python",
   "nbconvert_exporter": "python",
   "pygments_lexer": "ipython3",
   "version": "3.7.3"
  }
 },
 "nbformat": 4,
 "nbformat_minor": 4
}
